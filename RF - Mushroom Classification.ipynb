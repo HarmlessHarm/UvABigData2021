{
 "cells": [
  {
   "cell_type": "code",
   "execution_count": 6,
   "id": "changing-cylinder",
   "metadata": {
    "id": "2-BOTum5Wxjr"
   },
   "outputs": [],
   "source": [
    "import pandas as pd\n",
    "import numpy as np\n",
    "import matplotlib.pyplot as plt\n",
    "import pandas_profiling\n",
    "import time\n",
    "\n",
    "from sklearn.preprocessing import LabelBinarizer\n",
    "from sklearn.linear_model import LinearRegression\n",
    "from sklearn.model_selection import train_test_split\n",
    "from sklearn.ensemble import RandomForestClassifier"
   ]
  },
  {
   "cell_type": "code",
   "execution_count": 7,
   "id": "wrapped-pacific",
   "metadata": {
    "id": "c_Pz276qWxjw"
   },
   "outputs": [],
   "source": [
    "#CATEGORICAL_COLUMNS = ['Location', 'WindGustDir', 'WindDir9am', 'WindDir3pm', 'RainToday']"
   ]
  },
  {
   "cell_type": "code",
   "execution_count": 8,
   "id": "adjusted-invitation",
   "metadata": {
    "id": "l-3UNWOlWxjw"
   },
   "outputs": [],
   "source": [
    "data = pd.read_csv('mushrooms.csv')"
   ]
  },
  {
   "cell_type": "code",
   "execution_count": 9,
   "id": "amino-consciousness",
   "metadata": {
    "id": "EzULWS71Wxjw"
   },
   "outputs": [],
   "source": [
    "data = data.fillna(data.mean())\n",
    "data = data.dropna()\n",
    "\n",
    "data.drop_duplicates(inplace = True)"
   ]
  },
  {
   "cell_type": "code",
   "execution_count": 10,
   "id": "welsh-skiing",
   "metadata": {
    "colab": {
     "referenced_widgets": [
      "1e01b05135d94e00a3d702f367082512",
      "5871309fea20455ea6605f95ada01c38",
      "ff26bb67afb74ed8ad203cb79e38fec5"
     ]
    },
    "id": "D_WdEytUWxjw",
    "outputId": "2b670925-8714-4a64-e8ee-85a963a6c6f0"
   },
   "outputs": [],
   "source": [
    "data = data.drop('veil-type',1)\n",
    "# data.profile_report()"
   ]
  },
  {
   "cell_type": "code",
   "execution_count": 11,
   "id": "objective-fitting",
   "metadata": {
    "id": "74TU1B0YWxjy"
   },
   "outputs": [],
   "source": [
    "data['class'] = np.where(data['class'] == 'p', 0, 1)"
   ]
  },
  {
   "cell_type": "code",
   "execution_count": 12,
   "id": "english-democracy",
   "metadata": {
    "id": "flnW7xEJWxjy"
   },
   "outputs": [],
   "source": [
    "features = {}\n",
    "\n",
    "features[2] = list(data.drop('class', axis=1).columns)\n",
    "features[0] = [f for f in features[2] if f not in ['stalk-shape', 'ring-number', 'stalk-root', 'veil-color', 'gill-attachment', 'habitat', 'stalk-color-below-ring', 'stalk-color-above-ring', 'cap-surface', 'cap-shape', 'cap-color']]\n",
    "features[1] = [f for f in features[2] if f not in ['stalk-shape', 'ring-number', 'stalk-root', 'veil-color', 'gill-attachment']]"
   ]
  },
  {
   "cell_type": "code",
   "execution_count": 13,
   "id": "tight-location",
   "metadata": {
    "id": "58YO5GmWWxjy",
    "outputId": "e1f6446d-5dda-4f47-b7a2-13c7af90e3ff"
   },
   "outputs": [
    {
     "data": {
      "text/plain": [
       "{2: ['cap-shape',\n",
       "  'cap-surface',\n",
       "  'cap-color',\n",
       "  'bruises',\n",
       "  'odor',\n",
       "  'gill-attachment',\n",
       "  'gill-spacing',\n",
       "  'gill-size',\n",
       "  'gill-color',\n",
       "  'stalk-shape',\n",
       "  'stalk-root',\n",
       "  'stalk-surface-above-ring',\n",
       "  'stalk-surface-below-ring',\n",
       "  'stalk-color-above-ring',\n",
       "  'stalk-color-below-ring',\n",
       "  'veil-color',\n",
       "  'ring-number',\n",
       "  'ring-type',\n",
       "  'spore-print-color',\n",
       "  'population',\n",
       "  'habitat'],\n",
       " 0: ['bruises',\n",
       "  'odor',\n",
       "  'gill-spacing',\n",
       "  'gill-size',\n",
       "  'gill-color',\n",
       "  'stalk-surface-above-ring',\n",
       "  'stalk-surface-below-ring',\n",
       "  'ring-type',\n",
       "  'spore-print-color',\n",
       "  'population'],\n",
       " 1: ['cap-shape',\n",
       "  'cap-surface',\n",
       "  'cap-color',\n",
       "  'bruises',\n",
       "  'odor',\n",
       "  'gill-spacing',\n",
       "  'gill-size',\n",
       "  'gill-color',\n",
       "  'stalk-surface-above-ring',\n",
       "  'stalk-surface-below-ring',\n",
       "  'stalk-color-above-ring',\n",
       "  'stalk-color-below-ring',\n",
       "  'ring-type',\n",
       "  'spore-print-color',\n",
       "  'population',\n",
       "  'habitat']}"
      ]
     },
     "execution_count": 13,
     "metadata": {},
     "output_type": "execute_result"
    }
   ],
   "source": [
    "features"
   ]
  },
  {
   "cell_type": "code",
   "execution_count": 14,
   "id": "absent-divorce",
   "metadata": {
    "id": "83abodeMWxjy"
   },
   "outputs": [],
   "source": [
    "def encode_column(data, column):\n",
    "    encoded_columns = pd.get_dummies(data[column], prefix=column)\n",
    "    return pd.concat([data, encoded_columns], axis=1).drop(column, axis=1)"
   ]
  },
  {
   "cell_type": "code",
   "execution_count": 15,
   "id": "broke-hawaiian",
   "metadata": {
    "id": "dRpnD6KLWxjy",
    "outputId": "9bdac35e-50d6-47fc-f969-9902e84093f9"
   },
   "outputs": [
    {
     "name": "stdout",
     "output_type": "stream",
     "text": [
      "1624 train examples\n",
      "6500 test examples\n",
      "Train size:  0.2 Features version:  0\n",
      "Train size:  0.2 Features version:  1\n"
     ]
    },
    {
     "name": "stderr",
     "output_type": "stream",
     "text": [
      "C:\\Users\\Harm\\.conda\\envs\\bigdata\\lib\\site-packages\\ipykernel_launcher.py:30: DataConversionWarning: A column-vector y was passed when a 1d array was expected. Please change the shape of y to (n_samples,), for example using ravel().\n",
      "C:\\Users\\Harm\\.conda\\envs\\bigdata\\lib\\site-packages\\ipykernel_launcher.py:30: DataConversionWarning: A column-vector y was passed when a 1d array was expected. Please change the shape of y to (n_samples,), for example using ravel().\n"
     ]
    },
    {
     "name": "stdout",
     "output_type": "stream",
     "text": [
      "Train size:  0.2 Features version:  2\n",
      "4062 train examples\n",
      "4062 test examples\n",
      "Train size:  0.5 Features version:  0\n"
     ]
    },
    {
     "name": "stderr",
     "output_type": "stream",
     "text": [
      "C:\\Users\\Harm\\.conda\\envs\\bigdata\\lib\\site-packages\\ipykernel_launcher.py:30: DataConversionWarning: A column-vector y was passed when a 1d array was expected. Please change the shape of y to (n_samples,), for example using ravel().\n",
      "C:\\Users\\Harm\\.conda\\envs\\bigdata\\lib\\site-packages\\ipykernel_launcher.py:30: DataConversionWarning: A column-vector y was passed when a 1d array was expected. Please change the shape of y to (n_samples,), for example using ravel().\n"
     ]
    },
    {
     "name": "stdout",
     "output_type": "stream",
     "text": [
      "Train size:  0.5 Features version:  1\n",
      "Train size:  0.5 Features version:  2\n"
     ]
    },
    {
     "name": "stderr",
     "output_type": "stream",
     "text": [
      "C:\\Users\\Harm\\.conda\\envs\\bigdata\\lib\\site-packages\\ipykernel_launcher.py:30: DataConversionWarning: A column-vector y was passed when a 1d array was expected. Please change the shape of y to (n_samples,), for example using ravel().\n",
      "C:\\Users\\Harm\\.conda\\envs\\bigdata\\lib\\site-packages\\ipykernel_launcher.py:30: DataConversionWarning: A column-vector y was passed when a 1d array was expected. Please change the shape of y to (n_samples,), for example using ravel().\n"
     ]
    },
    {
     "name": "stdout",
     "output_type": "stream",
     "text": [
      "6499 train examples\n",
      "1625 test examples\n",
      "Train size:  0.8 Features version:  0\n",
      "Train size:  0.8 Features version:  1\n"
     ]
    },
    {
     "name": "stderr",
     "output_type": "stream",
     "text": [
      "C:\\Users\\Harm\\.conda\\envs\\bigdata\\lib\\site-packages\\ipykernel_launcher.py:30: DataConversionWarning: A column-vector y was passed when a 1d array was expected. Please change the shape of y to (n_samples,), for example using ravel().\n",
      "C:\\Users\\Harm\\.conda\\envs\\bigdata\\lib\\site-packages\\ipykernel_launcher.py:30: DataConversionWarning: A column-vector y was passed when a 1d array was expected. Please change the shape of y to (n_samples,), for example using ravel().\n"
     ]
    },
    {
     "name": "stdout",
     "output_type": "stream",
     "text": [
      "Train size:  0.8 Features version:  2\n"
     ]
    },
    {
     "name": "stderr",
     "output_type": "stream",
     "text": [
      "C:\\Users\\Harm\\.conda\\envs\\bigdata\\lib\\site-packages\\ipykernel_launcher.py:30: DataConversionWarning: A column-vector y was passed when a 1d array was expected. Please change the shape of y to (n_samples,), for example using ravel().\n"
     ]
    }
   ],
   "source": [
    "records = []\n",
    "\n",
    "encoded_data = data\n",
    "\n",
    "for category in data.columns[1:]:\n",
    "    encoded_data = encode_column(encoded_data, category)\n",
    "\n",
    "for train_size in [0.2, 0.5, 0.8]:\n",
    "\n",
    "    train, test = train_test_split(encoded_data, test_size=1 - train_size)\n",
    "    print(len(train), 'train examples')\n",
    "    print(len(test), 'test examples')\n",
    "    \n",
    "    for features_version in [0, 1, 2]:\n",
    "        \n",
    "        print(\"Train size: \", train_size, \"Features version: \", features_version)\n",
    "        \n",
    "        columns_X = [col for col in encoded_data if any([col.startswith(feature) for feature in features[features_version]])]\n",
    "        columns_Y = [\"class\"]\n",
    "\n",
    "        train_ds = train[[*columns_X, *columns_Y]]\n",
    "        test_ds = test[[*columns_X, *columns_Y]]\n",
    "        \n",
    "        train_X = train_ds[columns_X]\n",
    "        train_Y = train_ds[columns_Y]\n",
    "        test_X = test_ds[columns_X]\n",
    "        test_Y = test_ds[columns_Y]\n",
    "        \n",
    "        time_before = time.perf_counter()\n",
    "        model = RandomForestClassifier(n_estimators = 50).fit(train_X, train_Y)\n",
    "        time_taken = time.perf_counter() - time_before\n",
    "        \n",
    "        train_score = model.score(train_X, train_Y)\n",
    "        test_score = model.score(test_X, test_Y)\n",
    "        \n",
    "        records.append([time_taken, train_score, test_score])"
   ]
  },
  {
   "cell_type": "code",
   "execution_count": 21,
   "id": "chief-industry",
   "metadata": {
    "id": "bkeaIrUUWxjz"
   },
   "outputs": [],
   "source": [
    "results = []\n",
    "i = 0\n",
    "for train_size in [0.2, 0.5, 0.8]:\n",
    "    for features_version in [0, 1, 2]:\n",
    "        results.append({\n",
    "            'split': train_size, \n",
    "            'features': features_version,\n",
    "            'time': round(records[i][0], 3) ,\n",
    "            'train_acc': round(records[i][1], 3),\n",
    "            'test_acc': round(records[i][2], 3)\n",
    "        })\n",
    "        \n",
    "        i = i+1"
   ]
  },
  {
   "cell_type": "code",
   "execution_count": 22,
   "id": "unlimited-place",
   "metadata": {
    "id": "mWjnOr-WWxjz",
    "outputId": "990c5f39-cc69-48ec-8c07-28f8312bc0a2"
   },
   "outputs": [
    {
     "data": {
      "text/html": [
       "<div>\n",
       "<style scoped>\n",
       "    .dataframe tbody tr th:only-of-type {\n",
       "        vertical-align: middle;\n",
       "    }\n",
       "\n",
       "    .dataframe tbody tr th {\n",
       "        vertical-align: top;\n",
       "    }\n",
       "\n",
       "    .dataframe thead th {\n",
       "        text-align: right;\n",
       "    }\n",
       "</style>\n",
       "<table border=\"1\" class=\"dataframe\">\n",
       "  <thead>\n",
       "    <tr style=\"text-align: right;\">\n",
       "      <th></th>\n",
       "      <th>split</th>\n",
       "      <th>features</th>\n",
       "      <th>time</th>\n",
       "      <th>train_acc</th>\n",
       "      <th>test_acc</th>\n",
       "    </tr>\n",
       "  </thead>\n",
       "  <tbody>\n",
       "    <tr>\n",
       "      <th>0</th>\n",
       "      <td>0.2</td>\n",
       "      <td>0</td>\n",
       "      <td>0.067</td>\n",
       "      <td>1.0</td>\n",
       "      <td>1.0</td>\n",
       "    </tr>\n",
       "    <tr>\n",
       "      <th>1</th>\n",
       "      <td>0.2</td>\n",
       "      <td>1</td>\n",
       "      <td>0.072</td>\n",
       "      <td>1.0</td>\n",
       "      <td>1.0</td>\n",
       "    </tr>\n",
       "    <tr>\n",
       "      <th>2</th>\n",
       "      <td>0.2</td>\n",
       "      <td>2</td>\n",
       "      <td>0.070</td>\n",
       "      <td>1.0</td>\n",
       "      <td>1.0</td>\n",
       "    </tr>\n",
       "    <tr>\n",
       "      <th>3</th>\n",
       "      <td>0.5</td>\n",
       "      <td>0</td>\n",
       "      <td>0.093</td>\n",
       "      <td>1.0</td>\n",
       "      <td>1.0</td>\n",
       "    </tr>\n",
       "    <tr>\n",
       "      <th>4</th>\n",
       "      <td>0.5</td>\n",
       "      <td>1</td>\n",
       "      <td>0.101</td>\n",
       "      <td>1.0</td>\n",
       "      <td>1.0</td>\n",
       "    </tr>\n",
       "    <tr>\n",
       "      <th>5</th>\n",
       "      <td>0.5</td>\n",
       "      <td>2</td>\n",
       "      <td>0.103</td>\n",
       "      <td>1.0</td>\n",
       "      <td>1.0</td>\n",
       "    </tr>\n",
       "    <tr>\n",
       "      <th>6</th>\n",
       "      <td>0.8</td>\n",
       "      <td>0</td>\n",
       "      <td>0.113</td>\n",
       "      <td>1.0</td>\n",
       "      <td>1.0</td>\n",
       "    </tr>\n",
       "    <tr>\n",
       "      <th>7</th>\n",
       "      <td>0.8</td>\n",
       "      <td>1</td>\n",
       "      <td>0.127</td>\n",
       "      <td>1.0</td>\n",
       "      <td>1.0</td>\n",
       "    </tr>\n",
       "    <tr>\n",
       "      <th>8</th>\n",
       "      <td>0.8</td>\n",
       "      <td>2</td>\n",
       "      <td>0.126</td>\n",
       "      <td>1.0</td>\n",
       "      <td>1.0</td>\n",
       "    </tr>\n",
       "  </tbody>\n",
       "</table>\n",
       "</div>"
      ],
      "text/plain": [
       "   split  features   time  train_acc  test_acc\n",
       "0    0.2         0  0.067        1.0       1.0\n",
       "1    0.2         1  0.072        1.0       1.0\n",
       "2    0.2         2  0.070        1.0       1.0\n",
       "3    0.5         0  0.093        1.0       1.0\n",
       "4    0.5         1  0.101        1.0       1.0\n",
       "5    0.5         2  0.103        1.0       1.0\n",
       "6    0.8         0  0.113        1.0       1.0\n",
       "7    0.8         1  0.127        1.0       1.0\n",
       "8    0.8         2  0.126        1.0       1.0"
      ]
     },
     "execution_count": 22,
     "metadata": {},
     "output_type": "execute_result"
    }
   ],
   "source": [
    "results_df = pd.DataFrame(results)\n",
    "results_df"
   ]
  },
  {
   "cell_type": "code",
   "execution_count": 23,
   "id": "civil-waterproof",
   "metadata": {
    "id": "Bs-ZKF2yWxjz"
   },
   "outputs": [
    {
     "name": "stdout",
     "output_type": "stream",
     "text": [
      "\\begin{tabular}{lrrrrr}\n",
      "\\toprule\n",
      "{} &  split &  features &   time &  train\\_acc &  test\\_acc \\\\\n",
      "\\midrule\n",
      "0 &    0.2 &         0 &  0.067 &        1.0 &       1.0 \\\\\n",
      "1 &    0.2 &         1 &  0.072 &        1.0 &       1.0 \\\\\n",
      "2 &    0.2 &         2 &  0.070 &        1.0 &       1.0 \\\\\n",
      "3 &    0.5 &         0 &  0.093 &        1.0 &       1.0 \\\\\n",
      "4 &    0.5 &         1 &  0.101 &        1.0 &       1.0 \\\\\n",
      "5 &    0.5 &         2 &  0.103 &        1.0 &       1.0 \\\\\n",
      "6 &    0.8 &         0 &  0.113 &        1.0 &       1.0 \\\\\n",
      "7 &    0.8 &         1 &  0.127 &        1.0 &       1.0 \\\\\n",
      "8 &    0.8 &         2 &  0.126 &        1.0 &       1.0 \\\\\n",
      "\\bottomrule\n",
      "\\end{tabular}\n",
      "\n"
     ]
    }
   ],
   "source": [
    "results_df.to_csv('RF-Australia.csv')\n",
    "print(results_df.to_latex())"
   ]
  },
  {
   "cell_type": "code",
   "execution_count": null,
   "id": "natural-clearing",
   "metadata": {},
   "outputs": [],
   "source": []
  },
  {
   "cell_type": "code",
   "execution_count": null,
   "id": "descending-intake",
   "metadata": {},
   "outputs": [],
   "source": []
  }
 ],
 "metadata": {
  "colab": {
   "name": "RF - Mushroom Classification.ipynb",
   "provenance": []
  },
  "kernelspec": {
   "display_name": "Python 3",
   "language": "python",
   "name": "python3"
  },
  "language_info": {
   "codemirror_mode": {
    "name": "ipython",
    "version": 3
   },
   "file_extension": ".py",
   "mimetype": "text/x-python",
   "name": "python",
   "nbconvert_exporter": "python",
   "pygments_lexer": "ipython3",
   "version": "3.7.10"
  }
 },
 "nbformat": 4,
 "nbformat_minor": 5
}
