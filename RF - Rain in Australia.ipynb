{
 "cells": [
  {
   "cell_type": "code",
   "execution_count": 1,
   "id": "miniature-tobago",
   "metadata": {},
   "outputs": [],
   "source": [
    "import pandas as pd\n",
    "import numpy as np\n",
    "import matplotlib.pyplot as plt\n",
    "import pandas_profiling\n",
    "import time\n",
    "\n",
    "from sklearn.preprocessing import LabelBinarizer\n",
    "from sklearn.linear_model import LinearRegression\n",
    "from sklearn.model_selection import train_test_split\n",
    "from sklearn.ensemble import RandomForestClassifier"
   ]
  },
  {
   "cell_type": "code",
   "execution_count": 2,
   "id": "rubber-audio",
   "metadata": {},
   "outputs": [],
   "source": [
    "CATEGORICAL_COLUMNS = ['Location', 'WindGustDir', 'WindDir9am', 'WindDir3pm', 'RainToday']"
   ]
  },
  {
   "cell_type": "code",
   "execution_count": 3,
   "id": "stupid-rogers",
   "metadata": {},
   "outputs": [],
   "source": [
    "data = pd.read_csv('weatherAUS.csv')"
   ]
  },
  {
   "cell_type": "code",
   "execution_count": 4,
   "id": "registered-broad",
   "metadata": {},
   "outputs": [],
   "source": [
    "data = data.fillna(data.mean())\n",
    "data = data.dropna()\n",
    "data.drop_duplicates(inplace = True)"
   ]
  },
  {
   "cell_type": "code",
   "execution_count": 5,
   "id": "introductory-rachel",
   "metadata": {},
   "outputs": [],
   "source": [
    "data.drop('Date', axis=1, inplace=True)\n",
    "data['RainTomorrow'] = np.where(data['RainTomorrow'] == 'No', 0, 1)"
   ]
  },
  {
   "cell_type": "code",
   "execution_count": 6,
   "id": "urban-steel",
   "metadata": {},
   "outputs": [],
   "source": [
    "features = {}\n",
    "\n",
    "features[2] = list(data.drop('RainTomorrow', axis=1).columns)\n",
    "features[0] = [f for f in features[2] if f not in ['MinTemp', 'MaxTemp', 'Evaporation', 'WindGustDir', 'WindGustSpeed', 'WindDir9am', 'WindDir3pm', 'WindSpeed9am', 'WindSpeed3pm', 'Temp9am', 'Temp3pm']]\n",
    "features[1] = [f for f in features[2] if f not in ['MinTemp', 'MaxTemp', 'Evaporation', 'Temp9am', 'Temp3pm']]"
   ]
  },
  {
   "cell_type": "code",
   "execution_count": 7,
   "id": "concerned-subdivision",
   "metadata": {},
   "outputs": [],
   "source": [
    "def encode_column(data, column):\n",
    "    encoded_columns = pd.get_dummies(data[column], prefix=column)\n",
    "    return pd.concat([data, encoded_columns], axis=1).drop(column, axis=1)"
   ]
  },
  {
   "cell_type": "code",
   "execution_count": 8,
   "id": "accompanied-courage",
   "metadata": {},
   "outputs": [
    {
     "name": "stdout",
     "output_type": "stream",
     "text": [
      "24742 train examples\n",
      "98968 test examples\n",
      "Train size:  0.2 Features version:  0\n"
     ]
    },
    {
     "name": "stderr",
     "output_type": "stream",
     "text": [
      "C:\\Users\\Harm\\.conda\\envs\\bigdata\\lib\\site-packages\\ipykernel_launcher.py:29: DataConversionWarning: A column-vector y was passed when a 1d array was expected. Please change the shape of y to (n_samples,), for example using ravel().\n"
     ]
    },
    {
     "name": "stdout",
     "output_type": "stream",
     "text": [
      "Train size:  0.2 Features version:  1\n"
     ]
    },
    {
     "name": "stderr",
     "output_type": "stream",
     "text": [
      "C:\\Users\\Harm\\.conda\\envs\\bigdata\\lib\\site-packages\\ipykernel_launcher.py:29: DataConversionWarning: A column-vector y was passed when a 1d array was expected. Please change the shape of y to (n_samples,), for example using ravel().\n"
     ]
    },
    {
     "name": "stdout",
     "output_type": "stream",
     "text": [
      "Train size:  0.2 Features version:  2\n"
     ]
    },
    {
     "name": "stderr",
     "output_type": "stream",
     "text": [
      "C:\\Users\\Harm\\.conda\\envs\\bigdata\\lib\\site-packages\\ipykernel_launcher.py:29: DataConversionWarning: A column-vector y was passed when a 1d array was expected. Please change the shape of y to (n_samples,), for example using ravel().\n"
     ]
    },
    {
     "name": "stdout",
     "output_type": "stream",
     "text": [
      "61855 train examples\n",
      "61855 test examples\n",
      "Train size:  0.5 Features version:  0\n"
     ]
    },
    {
     "name": "stderr",
     "output_type": "stream",
     "text": [
      "C:\\Users\\Harm\\.conda\\envs\\bigdata\\lib\\site-packages\\ipykernel_launcher.py:29: DataConversionWarning: A column-vector y was passed when a 1d array was expected. Please change the shape of y to (n_samples,), for example using ravel().\n"
     ]
    },
    {
     "name": "stdout",
     "output_type": "stream",
     "text": [
      "Train size:  0.5 Features version:  1\n"
     ]
    },
    {
     "name": "stderr",
     "output_type": "stream",
     "text": [
      "C:\\Users\\Harm\\.conda\\envs\\bigdata\\lib\\site-packages\\ipykernel_launcher.py:29: DataConversionWarning: A column-vector y was passed when a 1d array was expected. Please change the shape of y to (n_samples,), for example using ravel().\n"
     ]
    },
    {
     "name": "stdout",
     "output_type": "stream",
     "text": [
      "Train size:  0.5 Features version:  2\n"
     ]
    },
    {
     "name": "stderr",
     "output_type": "stream",
     "text": [
      "C:\\Users\\Harm\\.conda\\envs\\bigdata\\lib\\site-packages\\ipykernel_launcher.py:29: DataConversionWarning: A column-vector y was passed when a 1d array was expected. Please change the shape of y to (n_samples,), for example using ravel().\n"
     ]
    },
    {
     "name": "stdout",
     "output_type": "stream",
     "text": [
      "98968 train examples\n",
      "24742 test examples\n",
      "Train size:  0.8 Features version:  0\n"
     ]
    },
    {
     "name": "stderr",
     "output_type": "stream",
     "text": [
      "C:\\Users\\Harm\\.conda\\envs\\bigdata\\lib\\site-packages\\ipykernel_launcher.py:29: DataConversionWarning: A column-vector y was passed when a 1d array was expected. Please change the shape of y to (n_samples,), for example using ravel().\n"
     ]
    },
    {
     "name": "stdout",
     "output_type": "stream",
     "text": [
      "Train size:  0.8 Features version:  1\n"
     ]
    },
    {
     "name": "stderr",
     "output_type": "stream",
     "text": [
      "C:\\Users\\Harm\\.conda\\envs\\bigdata\\lib\\site-packages\\ipykernel_launcher.py:29: DataConversionWarning: A column-vector y was passed when a 1d array was expected. Please change the shape of y to (n_samples,), for example using ravel().\n"
     ]
    },
    {
     "name": "stdout",
     "output_type": "stream",
     "text": [
      "Train size:  0.8 Features version:  2\n"
     ]
    },
    {
     "name": "stderr",
     "output_type": "stream",
     "text": [
      "C:\\Users\\Harm\\.conda\\envs\\bigdata\\lib\\site-packages\\ipykernel_launcher.py:29: DataConversionWarning: A column-vector y was passed when a 1d array was expected. Please change the shape of y to (n_samples,), for example using ravel().\n"
     ]
    }
   ],
   "source": [
    "records = []\n",
    "\n",
    "encoded_data = data\n",
    "for category in CATEGORICAL_COLUMNS:\n",
    "    encoded_data = encode_column(encoded_data, category)\n",
    "\n",
    "for train_size in [0.2, 0.5, 0.8]:\n",
    "\n",
    "    train, test = train_test_split(encoded_data, test_size=1 - train_size)\n",
    "    print(len(train), 'train examples')\n",
    "    print(len(test), 'test examples')\n",
    "    \n",
    "    for features_version in [0, 1, 2]:\n",
    "        \n",
    "        print(\"Train size: \", train_size, \"Features version: \", features_version)\n",
    "        \n",
    "        columns_X = [col for col in encoded_data if any([col.startswith(feature) for feature in features[features_version]])]\n",
    "        columns_Y = [\"RainTomorrow\"]\n",
    "        \n",
    "        train_ds = train[[*columns_X, *columns_Y]]\n",
    "        test_ds = test[[*columns_X, *columns_Y]]\n",
    "        \n",
    "        train_X = train_ds[columns_X]\n",
    "        train_Y = train_ds[columns_Y]\n",
    "        test_X = test_ds[columns_X]\n",
    "        test_Y = test_ds[columns_Y]\n",
    "        \n",
    "        time_before = time.perf_counter()\n",
    "        model = RandomForestClassifier(n_estimators = 50).fit(train_X, train_Y)\n",
    "        time_taken = time.perf_counter() - time_before\n",
    "        \n",
    "        train_score = model.score(train_X, train_Y)\n",
    "        test_score = model.score(test_X, test_Y)\n",
    "        \n",
    "        records.append([time_taken, train_score, test_score])"
   ]
  },
  {
   "cell_type": "code",
   "execution_count": 14,
   "id": "massive-master",
   "metadata": {},
   "outputs": [],
   "source": [
    "results = []\n",
    "i = 0\n",
    "for train_size in [0.2, 0.5, 0.8]:\n",
    "    for features_version in [0, 1, 2]:\n",
    "        results.append({\n",
    "            'split': train_size, \n",
    "            'features': features_version,\n",
    "            'time': round(records[i][0], 3) ,\n",
    "            'train_acc': round(records[i][1], 3),\n",
    "            'test_acc': round(records[i][2], 3)\n",
    "        })\n",
    "        \n",
    "        i = i+1"
   ]
  },
  {
   "cell_type": "code",
   "execution_count": 15,
   "id": "plastic-cocktail",
   "metadata": {
    "scrolled": true
   },
   "outputs": [
    {
     "data": {
      "text/html": [
       "<div>\n",
       "<style scoped>\n",
       "    .dataframe tbody tr th:only-of-type {\n",
       "        vertical-align: middle;\n",
       "    }\n",
       "\n",
       "    .dataframe tbody tr th {\n",
       "        vertical-align: top;\n",
       "    }\n",
       "\n",
       "    .dataframe thead th {\n",
       "        text-align: right;\n",
       "    }\n",
       "</style>\n",
       "<table border=\"1\" class=\"dataframe\">\n",
       "  <thead>\n",
       "    <tr style=\"text-align: right;\">\n",
       "      <th></th>\n",
       "      <th>split</th>\n",
       "      <th>features</th>\n",
       "      <th>time</th>\n",
       "      <th>train_acc</th>\n",
       "      <th>test_acc</th>\n",
       "    </tr>\n",
       "  </thead>\n",
       "  <tbody>\n",
       "    <tr>\n",
       "      <th>0</th>\n",
       "      <td>0.2</td>\n",
       "      <td>0</td>\n",
       "      <td>1.640</td>\n",
       "      <td>0.999</td>\n",
       "      <td>0.844</td>\n",
       "    </tr>\n",
       "    <tr>\n",
       "      <th>1</th>\n",
       "      <td>0.2</td>\n",
       "      <td>1</td>\n",
       "      <td>2.007</td>\n",
       "      <td>1.000</td>\n",
       "      <td>0.851</td>\n",
       "    </tr>\n",
       "    <tr>\n",
       "      <th>2</th>\n",
       "      <td>0.2</td>\n",
       "      <td>2</td>\n",
       "      <td>2.338</td>\n",
       "      <td>1.000</td>\n",
       "      <td>0.852</td>\n",
       "    </tr>\n",
       "    <tr>\n",
       "      <th>3</th>\n",
       "      <td>0.5</td>\n",
       "      <td>0</td>\n",
       "      <td>4.282</td>\n",
       "      <td>0.998</td>\n",
       "      <td>0.847</td>\n",
       "    </tr>\n",
       "    <tr>\n",
       "      <th>4</th>\n",
       "      <td>0.5</td>\n",
       "      <td>1</td>\n",
       "      <td>6.707</td>\n",
       "      <td>1.000</td>\n",
       "      <td>0.855</td>\n",
       "    </tr>\n",
       "    <tr>\n",
       "      <th>5</th>\n",
       "      <td>0.5</td>\n",
       "      <td>2</td>\n",
       "      <td>6.018</td>\n",
       "      <td>1.000</td>\n",
       "      <td>0.856</td>\n",
       "    </tr>\n",
       "    <tr>\n",
       "      <th>6</th>\n",
       "      <td>0.8</td>\n",
       "      <td>0</td>\n",
       "      <td>7.054</td>\n",
       "      <td>0.998</td>\n",
       "      <td>0.845</td>\n",
       "    </tr>\n",
       "    <tr>\n",
       "      <th>7</th>\n",
       "      <td>0.8</td>\n",
       "      <td>1</td>\n",
       "      <td>10.209</td>\n",
       "      <td>1.000</td>\n",
       "      <td>0.856</td>\n",
       "    </tr>\n",
       "    <tr>\n",
       "      <th>8</th>\n",
       "      <td>0.8</td>\n",
       "      <td>2</td>\n",
       "      <td>10.439</td>\n",
       "      <td>1.000</td>\n",
       "      <td>0.854</td>\n",
       "    </tr>\n",
       "  </tbody>\n",
       "</table>\n",
       "</div>"
      ],
      "text/plain": [
       "   split  features    time  train_acc  test_acc\n",
       "0    0.2         0   1.640      0.999     0.844\n",
       "1    0.2         1   2.007      1.000     0.851\n",
       "2    0.2         2   2.338      1.000     0.852\n",
       "3    0.5         0   4.282      0.998     0.847\n",
       "4    0.5         1   6.707      1.000     0.855\n",
       "5    0.5         2   6.018      1.000     0.856\n",
       "6    0.8         0   7.054      0.998     0.845\n",
       "7    0.8         1  10.209      1.000     0.856\n",
       "8    0.8         2  10.439      1.000     0.854"
      ]
     },
     "execution_count": 15,
     "metadata": {},
     "output_type": "execute_result"
    }
   ],
   "source": [
    "results_df = pd.DataFrame(results)\n",
    "results_df"
   ]
  },
  {
   "cell_type": "code",
   "execution_count": 16,
   "id": "incredible-spiritual",
   "metadata": {},
   "outputs": [
    {
     "name": "stdout",
     "output_type": "stream",
     "text": [
      "\\begin{tabular}{lrrrrr}\n",
      "\\toprule\n",
      "{} &  split &  features &    time &  train\\_acc &  test\\_acc \\\\\n",
      "\\midrule\n",
      "0 &    0.2 &         0 &   1.640 &      0.999 &     0.844 \\\\\n",
      "1 &    0.2 &         1 &   2.007 &      1.000 &     0.851 \\\\\n",
      "2 &    0.2 &         2 &   2.338 &      1.000 &     0.852 \\\\\n",
      "3 &    0.5 &         0 &   4.282 &      0.998 &     0.847 \\\\\n",
      "4 &    0.5 &         1 &   6.707 &      1.000 &     0.855 \\\\\n",
      "5 &    0.5 &         2 &   6.018 &      1.000 &     0.856 \\\\\n",
      "6 &    0.8 &         0 &   7.054 &      0.998 &     0.845 \\\\\n",
      "7 &    0.8 &         1 &  10.209 &      1.000 &     0.856 \\\\\n",
      "8 &    0.8 &         2 &  10.439 &      1.000 &     0.854 \\\\\n",
      "\\bottomrule\n",
      "\\end{tabular}\n",
      "\n"
     ]
    }
   ],
   "source": [
    "results_df.to_csv('RF-Australia.csv')\n",
    "print(results_df.to_latex())"
   ]
  },
  {
   "cell_type": "code",
   "execution_count": null,
   "id": "wrong-rolling",
   "metadata": {},
   "outputs": [],
   "source": []
  },
  {
   "cell_type": "code",
   "execution_count": null,
   "id": "bearing-residence",
   "metadata": {},
   "outputs": [],
   "source": []
  }
 ],
 "metadata": {
  "kernelspec": {
   "display_name": "Python 3",
   "language": "python",
   "name": "python3"
  },
  "language_info": {
   "codemirror_mode": {
    "name": "ipython",
    "version": 3
   },
   "file_extension": ".py",
   "mimetype": "text/x-python",
   "name": "python",
   "nbconvert_exporter": "python",
   "pygments_lexer": "ipython3",
   "version": "3.7.10"
  }
 },
 "nbformat": 4,
 "nbformat_minor": 5
}
