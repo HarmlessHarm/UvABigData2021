{
 "cells": [
  {
   "cell_type": "code",
   "execution_count": 1,
   "id": "abstract-police",
   "metadata": {},
   "outputs": [],
   "source": [
    "import pandas as pd\n",
    "import numpy as np\n",
    "import matplotlib.pyplot as plt\n",
    "#import pandas_profiling\n",
    "import time\n",
    "\n",
    "from sklearn.ensemble import RandomForestClassifier\n",
    "from sklearn.preprocessing import LabelBinarizer\n",
    "from sklearn.linear_model import LinearRegression\n",
    "from sklearn.model_selection import train_test_split\n",
    "from sklearn.metrics import accuracy_score"
   ]
  },
  {
   "cell_type": "code",
   "execution_count": 2,
   "id": "nonprofit-playback",
   "metadata": {},
   "outputs": [],
   "source": [
    "CATEGORICAL_COLUMNS = [\"bldg_ctgy\", \"bldg_cls_s\", \"bldg_cls_p\", \"tax_cls_p\", \"tax_cls_s\"]\n",
    "LABEL_COLUMN = \"price\"\n",
    "SECOND_TEST_COLUMNS = [\"price\", \"bldg_cls_s\", \"borough\", \"lot\", \"tot_sqft\"]\n",
    "FIRST_TEST_COLUMNS = [*SECOND_TEST_COLUMNS, \"long\", \"lat\", \"block\", \"lot\", \"yr_built\", \"tot_unit\", \"bldg_ctgy\"]"
   ]
  },
  {
   "cell_type": "code",
   "execution_count": 3,
   "id": "negative-married",
   "metadata": {},
   "outputs": [],
   "source": [
    "def encode_column(data, column):\n",
    "    encoded_columns = pd.get_dummies(data[column], prefix=column)\n",
    "    return pd.concat([data, encoded_columns], axis=1).drop(column, axis=1)"
   ]
  },
  {
   "cell_type": "code",
   "execution_count": 4,
   "id": "sweet-hormone",
   "metadata": {},
   "outputs": [],
   "source": [
    "# raw_data = pd.read_csv(\"sales_data_2015.csv\")\n",
    "# pd.set_option(\"display.max_columns\", None)\n",
    "\n",
    "# # Some pre-processing\n",
    "# data = raw_data[(raw_data.usable == 'Y') & \n",
    "#                 (raw_data.price > 1000) &\n",
    "#                 (raw_data.tot_sqft > 0) &\n",
    "#                 (raw_data.yr_built > 0) &\n",
    "#                 (raw_data.tot_unit > 0)]\n",
    "# data = data.drop(columns=[\"Unnamed: 0\", \"year\", \"apt\", \"easmnt\", \"usable\", \"address\", \"bbl_id\", \"Sale_id\", \"sale_date\"])\n",
    "# data.isna().sum().sort_values(ascending=False)\n",
    "data = pd.read_csv(\"ny_housing.csv\")\n",
    "\n",
    "features = {}\n",
    "features[2] = list(data.drop(LABEL_COLUMN, axis=1).columns)\n",
    "features[0] = [f for f in features[2] if f not in FIRST_TEST_COLUMNS]\n",
    "features[1] = [f for f in features[2] if f not in SECOND_TEST_COLUMNS]\n",
    "\n",
    "# for category in CATEGORICAL_COLUMNS:\n",
    "#     data = encode_column(data, category)\n",
    "\n",
    "# display(data)\n",
    "# data.to_csv(\"ny_housing.csv\")\n",
    "\n",
    "# data = pd.read_csv(\"ny_housing.csv\")"
   ]
  },
  {
   "cell_type": "code",
   "execution_count": 5,
   "id": "incoming-thomson",
   "metadata": {},
   "outputs": [],
   "source": [
    "data[\"price_class\"] = np.where(data[\"price\"] > 500000, 1, 0)\n"
   ]
  },
  {
   "cell_type": "code",
   "execution_count": 6,
   "id": "american-saturday",
   "metadata": {},
   "outputs": [
    {
     "name": "stdout",
     "output_type": "stream",
     "text": [
      "5577 train examples\n",
      "22309 test examples\n",
      "Train size:  0.2 Features version:  0\n"
     ]
    },
    {
     "name": "stderr",
     "output_type": "stream",
     "text": [
      "C:\\Users\\Harm\\.conda\\envs\\bigdata\\lib\\site-packages\\ipykernel_launcher.py:26: DataConversionWarning: A column-vector y was passed when a 1d array was expected. Please change the shape of y to (n_samples,), for example using ravel().\n"
     ]
    },
    {
     "name": "stdout",
     "output_type": "stream",
     "text": [
      "Train size:  0.2 Features version:  1\n"
     ]
    },
    {
     "name": "stderr",
     "output_type": "stream",
     "text": [
      "C:\\Users\\Harm\\.conda\\envs\\bigdata\\lib\\site-packages\\ipykernel_launcher.py:26: DataConversionWarning: A column-vector y was passed when a 1d array was expected. Please change the shape of y to (n_samples,), for example using ravel().\n"
     ]
    },
    {
     "name": "stdout",
     "output_type": "stream",
     "text": [
      "Train size:  0.2 Features version:  2\n"
     ]
    },
    {
     "name": "stderr",
     "output_type": "stream",
     "text": [
      "C:\\Users\\Harm\\.conda\\envs\\bigdata\\lib\\site-packages\\ipykernel_launcher.py:26: DataConversionWarning: A column-vector y was passed when a 1d array was expected. Please change the shape of y to (n_samples,), for example using ravel().\n"
     ]
    },
    {
     "name": "stdout",
     "output_type": "stream",
     "text": [
      "13943 train examples\n",
      "13943 test examples\n",
      "Train size:  0.5 Features version:  0\n"
     ]
    },
    {
     "name": "stderr",
     "output_type": "stream",
     "text": [
      "C:\\Users\\Harm\\.conda\\envs\\bigdata\\lib\\site-packages\\ipykernel_launcher.py:26: DataConversionWarning: A column-vector y was passed when a 1d array was expected. Please change the shape of y to (n_samples,), for example using ravel().\n"
     ]
    },
    {
     "name": "stdout",
     "output_type": "stream",
     "text": [
      "Train size:  0.5 Features version:  1\n"
     ]
    },
    {
     "name": "stderr",
     "output_type": "stream",
     "text": [
      "C:\\Users\\Harm\\.conda\\envs\\bigdata\\lib\\site-packages\\ipykernel_launcher.py:26: DataConversionWarning: A column-vector y was passed when a 1d array was expected. Please change the shape of y to (n_samples,), for example using ravel().\n"
     ]
    },
    {
     "name": "stdout",
     "output_type": "stream",
     "text": [
      "Train size:  0.5 Features version:  2\n"
     ]
    },
    {
     "name": "stderr",
     "output_type": "stream",
     "text": [
      "C:\\Users\\Harm\\.conda\\envs\\bigdata\\lib\\site-packages\\ipykernel_launcher.py:26: DataConversionWarning: A column-vector y was passed when a 1d array was expected. Please change the shape of y to (n_samples,), for example using ravel().\n"
     ]
    },
    {
     "name": "stdout",
     "output_type": "stream",
     "text": [
      "22308 train examples\n",
      "5578 test examples\n",
      "Train size:  0.8 Features version:  0\n"
     ]
    },
    {
     "name": "stderr",
     "output_type": "stream",
     "text": [
      "C:\\Users\\Harm\\.conda\\envs\\bigdata\\lib\\site-packages\\ipykernel_launcher.py:26: DataConversionWarning: A column-vector y was passed when a 1d array was expected. Please change the shape of y to (n_samples,), for example using ravel().\n"
     ]
    },
    {
     "name": "stdout",
     "output_type": "stream",
     "text": [
      "Train size:  0.8 Features version:  1\n"
     ]
    },
    {
     "name": "stderr",
     "output_type": "stream",
     "text": [
      "C:\\Users\\Harm\\.conda\\envs\\bigdata\\lib\\site-packages\\ipykernel_launcher.py:26: DataConversionWarning: A column-vector y was passed when a 1d array was expected. Please change the shape of y to (n_samples,), for example using ravel().\n"
     ]
    },
    {
     "name": "stdout",
     "output_type": "stream",
     "text": [
      "Train size:  0.8 Features version:  2\n"
     ]
    },
    {
     "name": "stderr",
     "output_type": "stream",
     "text": [
      "C:\\Users\\Harm\\.conda\\envs\\bigdata\\lib\\site-packages\\ipykernel_launcher.py:26: DataConversionWarning: A column-vector y was passed when a 1d array was expected. Please change the shape of y to (n_samples,), for example using ravel().\n"
     ]
    }
   ],
   "source": [
    "records = []\n",
    "\n",
    "for train_size in [0.2, 0.5, 0.8]:\n",
    "\n",
    "    train, test = train_test_split(data, test_size=1 - train_size)\n",
    "    print(len(train), 'train examples')\n",
    "    print(len(test), 'test examples')\n",
    "    \n",
    "    for features_version in [0, 1, 2]:\n",
    "        \n",
    "        print(\"Train size: \", train_size, \"Features version: \", features_version)\n",
    "        \n",
    "        columns_X = [col for col in data if any([col.startswith(feature) for feature in features[features_version]])]\n",
    "        columns_Y = [LABEL_COLUMN]\n",
    "         \n",
    "        train_ds = train[[*columns_X, *columns_Y, \"price_class\"]]\n",
    "        test_ds = test[[*columns_X, *columns_Y, \"price_class\"]]\n",
    "        \n",
    "        train_X = train_ds[columns_X]\n",
    "        train_Y = train_ds[columns_Y]\n",
    "        test_X = test_ds[columns_X]\n",
    "        test_Y = test_ds[columns_Y]\n",
    "        \n",
    "        time_before = time.perf_counter()\n",
    "#         model = LinearRegression().fit(train_X, train_Y)\n",
    "        model = RandomForestClassifier(n_estimators=10,max_depth=16).fit(train_X, train_Y)\n",
    "\n",
    "        time_taken = time.perf_counter() - time_before\n",
    "        \n",
    "        train_score = accuracy_score(train_ds[\"price_class\"], np.where(model.predict(train_X) > 500000, 1, 0))\n",
    "        test_score = accuracy_score(test_ds[\"price_class\"], np.where(model.predict(test_X) > 500000, 1, 0))\n",
    "                                    \n",
    "        records.append([time_taken, train_score, test_score])"
   ]
  },
  {
   "cell_type": "code",
   "execution_count": 13,
   "id": "terminal-checkout",
   "metadata": {},
   "outputs": [],
   "source": [
    "results = []\n",
    "i = 0\n",
    "for train_size in [0.2, 0.5, 0.8]:\n",
    "    for features_version in [0, 1, 2]:\n",
    "        results.append({\n",
    "            'split': train_size, \n",
    "            'features': features_version,\n",
    "            'time': round(records[i][0], 3) ,\n",
    "            'train_acc': round(records[i][1], 3),\n",
    "            'test_acc': round(records[i][2], 3)\n",
    "        })\n",
    "        \n",
    "        i = i+1"
   ]
  },
  {
   "cell_type": "code",
   "execution_count": 14,
   "id": "threaded-hammer",
   "metadata": {},
   "outputs": [
    {
     "data": {
      "text/html": [
       "<div>\n",
       "<style scoped>\n",
       "    .dataframe tbody tr th:only-of-type {\n",
       "        vertical-align: middle;\n",
       "    }\n",
       "\n",
       "    .dataframe tbody tr th {\n",
       "        vertical-align: top;\n",
       "    }\n",
       "\n",
       "    .dataframe thead th {\n",
       "        text-align: right;\n",
       "    }\n",
       "</style>\n",
       "<table border=\"1\" class=\"dataframe\">\n",
       "  <thead>\n",
       "    <tr style=\"text-align: right;\">\n",
       "      <th></th>\n",
       "      <th>split</th>\n",
       "      <th>features</th>\n",
       "      <th>time</th>\n",
       "      <th>train_acc</th>\n",
       "      <th>test_acc</th>\n",
       "    </tr>\n",
       "  </thead>\n",
       "  <tbody>\n",
       "    <tr>\n",
       "      <th>0</th>\n",
       "      <td>0.2</td>\n",
       "      <td>0</td>\n",
       "      <td>0.478</td>\n",
       "      <td>0.828</td>\n",
       "      <td>0.723</td>\n",
       "    </tr>\n",
       "    <tr>\n",
       "      <th>1</th>\n",
       "      <td>0.2</td>\n",
       "      <td>1</td>\n",
       "      <td>0.726</td>\n",
       "      <td>0.857</td>\n",
       "      <td>0.741</td>\n",
       "    </tr>\n",
       "    <tr>\n",
       "      <th>2</th>\n",
       "      <td>0.2</td>\n",
       "      <td>2</td>\n",
       "      <td>0.817</td>\n",
       "      <td>0.884</td>\n",
       "      <td>0.742</td>\n",
       "    </tr>\n",
       "    <tr>\n",
       "      <th>3</th>\n",
       "      <td>0.5</td>\n",
       "      <td>0</td>\n",
       "      <td>2.183</td>\n",
       "      <td>0.846</td>\n",
       "      <td>0.763</td>\n",
       "    </tr>\n",
       "    <tr>\n",
       "      <th>4</th>\n",
       "      <td>0.5</td>\n",
       "      <td>1</td>\n",
       "      <td>2.750</td>\n",
       "      <td>0.849</td>\n",
       "      <td>0.779</td>\n",
       "    </tr>\n",
       "    <tr>\n",
       "      <th>5</th>\n",
       "      <td>0.5</td>\n",
       "      <td>2</td>\n",
       "      <td>2.914</td>\n",
       "      <td>0.864</td>\n",
       "      <td>0.775</td>\n",
       "    </tr>\n",
       "    <tr>\n",
       "      <th>6</th>\n",
       "      <td>0.8</td>\n",
       "      <td>0</td>\n",
       "      <td>3.967</td>\n",
       "      <td>0.829</td>\n",
       "      <td>0.770</td>\n",
       "    </tr>\n",
       "    <tr>\n",
       "      <th>7</th>\n",
       "      <td>0.8</td>\n",
       "      <td>1</td>\n",
       "      <td>5.708</td>\n",
       "      <td>0.852</td>\n",
       "      <td>0.790</td>\n",
       "    </tr>\n",
       "    <tr>\n",
       "      <th>8</th>\n",
       "      <td>0.8</td>\n",
       "      <td>2</td>\n",
       "      <td>5.675</td>\n",
       "      <td>0.864</td>\n",
       "      <td>0.774</td>\n",
       "    </tr>\n",
       "  </tbody>\n",
       "</table>\n",
       "</div>"
      ],
      "text/plain": [
       "   split  features   time  train_acc  test_acc\n",
       "0    0.2         0  0.478      0.828     0.723\n",
       "1    0.2         1  0.726      0.857     0.741\n",
       "2    0.2         2  0.817      0.884     0.742\n",
       "3    0.5         0  2.183      0.846     0.763\n",
       "4    0.5         1  2.750      0.849     0.779\n",
       "5    0.5         2  2.914      0.864     0.775\n",
       "6    0.8         0  3.967      0.829     0.770\n",
       "7    0.8         1  5.708      0.852     0.790\n",
       "8    0.8         2  5.675      0.864     0.774"
      ]
     },
     "execution_count": 14,
     "metadata": {},
     "output_type": "execute_result"
    }
   ],
   "source": [
    "results_df = pd.DataFrame(results)\n",
    "results_df"
   ]
  },
  {
   "cell_type": "code",
   "execution_count": 15,
   "id": "cathedral-ferry",
   "metadata": {},
   "outputs": [],
   "source": [
    "results_df.to_csv('RF_ny_housing_result.csv')"
   ]
  },
  {
   "cell_type": "code",
   "execution_count": 16,
   "id": "presidential-contact",
   "metadata": {},
   "outputs": [
    {
     "name": "stdout",
     "output_type": "stream",
     "text": [
      "\\begin{tabular}{lrrrrr}\n",
      "\\toprule\n",
      "{} &  split &  features &   time &  train\\_acc &  test\\_acc \\\\\n",
      "\\midrule\n",
      "0 &    0.2 &         0 &  0.478 &      0.828 &     0.723 \\\\\n",
      "1 &    0.2 &         1 &  0.726 &      0.857 &     0.741 \\\\\n",
      "2 &    0.2 &         2 &  0.817 &      0.884 &     0.742 \\\\\n",
      "3 &    0.5 &         0 &  2.183 &      0.846 &     0.763 \\\\\n",
      "4 &    0.5 &         1 &  2.750 &      0.849 &     0.779 \\\\\n",
      "5 &    0.5 &         2 &  2.914 &      0.864 &     0.775 \\\\\n",
      "6 &    0.8 &         0 &  3.967 &      0.829 &     0.770 \\\\\n",
      "7 &    0.8 &         1 &  5.708 &      0.852 &     0.790 \\\\\n",
      "8 &    0.8 &         2 &  5.675 &      0.864 &     0.774 \\\\\n",
      "\\bottomrule\n",
      "\\end{tabular}\n",
      "\n"
     ]
    }
   ],
   "source": [
    "print(results_df.to_latex())"
   ]
  },
  {
   "cell_type": "code",
   "execution_count": null,
   "id": "after-glucose",
   "metadata": {},
   "outputs": [],
   "source": []
  }
 ],
 "metadata": {
  "kernelspec": {
   "display_name": "Python 3",
   "language": "python",
   "name": "python3"
  },
  "language_info": {
   "codemirror_mode": {
    "name": "ipython",
    "version": 3
   },
   "file_extension": ".py",
   "mimetype": "text/x-python",
   "name": "python",
   "nbconvert_exporter": "python",
   "pygments_lexer": "ipython3",
   "version": "3.7.10"
  }
 },
 "nbformat": 4,
 "nbformat_minor": 5
}
